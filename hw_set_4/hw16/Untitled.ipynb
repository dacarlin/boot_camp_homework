{
 "cells": [
  {
   "cell_type": "code",
   "execution_count": 15,
   "metadata": {
    "collapsed": true
   },
   "outputs": [],
   "source": [
    "test_strings = [ \n",
    "    '0', \n",
    "    '00000001201212121212131242148120000000123013021301233333333331232131231233333331111111111',\n",
    "    '000111111101111111111111111110000000001',\n",
    "    '000000000111111111111110000000',\n",
    "    '01',\n",
    "]"
   ]
  },
  {
   "cell_type": "code",
   "execution_count": 21,
   "metadata": {
    "collapsed": false
   },
   "outputs": [],
   "source": [
    "def split_string( input_string ):\n",
    "    \n",
    "    print( input_string ) \n",
    "    \n",
    "    input_list = [ i for i in input_string if i in ( 0, 1 ) ]\n",
    "    \n",
    "    print( ''.join( input_list ) ) \n",
    "    \n",
    "    current_index = None\n",
    "    for char in input_string:\n",
    "        pass\n",
    "        \n",
    "    return [] "
   ]
  },
  {
   "cell_type": "code",
   "execution_count": 22,
   "metadata": {
    "collapsed": false
   },
   "outputs": [
    {
     "name": "stdout",
     "output_type": "stream",
     "text": [
      "0\n",
      "\n",
      "[]\n",
      "00000001201212121212131242148120000000123013021301233333333331232131231233333331111111111\n",
      "\n",
      "[]\n",
      "000111111101111111111111111110000000001\n",
      "\n",
      "[]\n",
      "000000000111111111111110000000\n",
      "\n",
      "[]\n",
      "01\n",
      "\n",
      "[]\n"
     ]
    }
   ],
   "source": [
    "for test_string in test_strings:\n",
    "    print( split_string( test_string ) ) "
   ]
  },
  {
   "cell_type": "code",
   "execution_count": null,
   "metadata": {
    "collapsed": true
   },
   "outputs": [],
   "source": []
  }
 ],
 "metadata": {
  "anaconda-cloud": {},
  "kernelspec": {
   "display_name": "Python [conda root]",
   "language": "python",
   "name": "conda-root-py"
  },
  "language_info": {
   "codemirror_mode": {
    "name": "ipython",
    "version": 3
   },
   "file_extension": ".py",
   "mimetype": "text/x-python",
   "name": "python",
   "nbconvert_exporter": "python",
   "pygments_lexer": "ipython3",
   "version": "3.5.2"
  }
 },
 "nbformat": 4,
 "nbformat_minor": 1
}
