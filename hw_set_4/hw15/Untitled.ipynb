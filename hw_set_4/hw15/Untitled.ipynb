{
 "cells": [
  {
   "cell_type": "code",
   "execution_count": 28,
   "metadata": {
    "collapsed": true
   },
   "outputs": [],
   "source": [
    "test_strings = [\n",
    "    '0', \n",
    "    '000010101001001', \n",
    "    '0000001111111111'\n",
    "]"
   ]
  },
  {
   "cell_type": "code",
   "execution_count": 29,
   "metadata": {
    "collapsed": false
   },
   "outputs": [],
   "source": [
    "def split_zeros_and_ones( s ):\n",
    "    indexes = [] \n",
    "\n",
    "    for i in range( len( s ) ):\n",
    "        if s[ i ] == s[ i - 1 ]:\n",
    "            pass\n",
    "        else:\n",
    "            indexes.append( i ) \n",
    "    \n",
    "    return indexes"
   ]
  },
  {
   "cell_type": "code",
   "execution_count": 30,
   "metadata": {
    "collapsed": false
   },
   "outputs": [
    {
     "name": "stdout",
     "output_type": "stream",
     "text": [
      "[]\n",
      "[0, 4, 5, 6, 7, 8, 9, 11, 12, 14]\n",
      "[0, 6]\n"
     ]
    }
   ],
   "source": [
    "for test_string in test_strings:\n",
    "    print( split_zeros_and_ones( test_string ) )"
   ]
  },
  {
   "cell_type": "code",
   "execution_count": null,
   "metadata": {
    "collapsed": true
   },
   "outputs": [],
   "source": []
  }
 ],
 "metadata": {
  "anaconda-cloud": {},
  "kernelspec": {
   "display_name": "Python [conda root]",
   "language": "python",
   "name": "conda-root-py"
  },
  "language_info": {
   "codemirror_mode": {
    "name": "ipython",
    "version": 3
   },
   "file_extension": ".py",
   "mimetype": "text/x-python",
   "name": "python",
   "nbconvert_exporter": "python",
   "pygments_lexer": "ipython3",
   "version": "3.5.2"
  }
 },
 "nbformat": 4,
 "nbformat_minor": 1
}
